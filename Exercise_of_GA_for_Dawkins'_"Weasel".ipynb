{
  "nbformat": 4,
  "nbformat_minor": 0,
  "metadata": {
    "colab": {
      "name": "Exercise of GA for Dawkins' \"Weasel\"",
      "provenance": [],
      "collapsed_sections": [],
      "include_colab_link": true
    },
    "kernelspec": {
      "name": "python3",
      "display_name": "Python 3"
    }
  },
  "cells": [
    {
      "cell_type": "markdown",
      "metadata": {
        "id": "view-in-github",
        "colab_type": "text"
      },
      "source": [
        "<a href=\"https://colab.research.google.com/github/akshatshah91/Game-AI/blob/master/Exercise_of_GA_for_Dawkins'_%22Weasel%22.ipynb\" target=\"_parent\"><img src=\"https://colab.research.google.com/assets/colab-badge.svg\" alt=\"Open In Colab\"/></a>"
      ]
    },
    {
      "cell_type": "code",
      "metadata": {
        "id": "1XMgCPxs_t2J",
        "colab_type": "code",
        "colab": {}
      },
      "source": [
        "import random\n",
        "import string\n",
        "import numpy as np\n",
        "import copy"
      ],
      "execution_count": null,
      "outputs": []
    },
    {
      "cell_type": "markdown",
      "metadata": {
        "id": "wSMHryYRNS6x",
        "colab_type": "text"
      },
      "source": [
        "Define Constants:\n",
        "\n",
        "n: population size, default to 100\n",
        "\n",
        "top: number of parents to be selected, defauylt to n/2\n",
        "\n",
        "\n"
      ]
    },
    {
      "cell_type": "code",
      "metadata": {
        "id": "9KitAXHEO8Vv",
        "colab_type": "code",
        "colab": {}
      },
      "source": [
        "n = 100\n",
        "top = n/2\n",
        "letters = string.ascii_letters+\" \"+\"!\"+\"?\"+\".\"+\",\""
      ],
      "execution_count": null,
      "outputs": []
    },
    {
      "cell_type": "code",
      "metadata": {
        "id": "o-spEzfr_C1a",
        "colab_type": "code",
        "colab": {}
      },
      "source": [
        "def generate_population (length, n):\n",
        "  parents = []\n",
        "  for x in range(n):\n",
        "    parents.append(''.join(random.choice(letters) for y in range(length)))\n",
        "  return parents"
      ],
      "execution_count": null,
      "outputs": []
    },
    {
      "cell_type": "code",
      "metadata": {
        "id": "KpZziL03UnZV",
        "colab_type": "code",
        "colab": {}
      },
      "source": [
        "def fit_func(target, generated):\n",
        "  fit = 0\n",
        "  for x in range(len(target)):\n",
        "    if(target[x] == generated[x]):\n",
        "      fit += 1\n",
        "  return fit"
      ],
      "execution_count": null,
      "outputs": []
    },
    {
      "cell_type": "code",
      "metadata": {
        "id": "DuulmrahM6v9",
        "colab_type": "code",
        "colab": {}
      },
      "source": [
        "#select the top half of the population\n",
        "def select_parents (target, parents):\n",
        "  dict = {}\n",
        "  for x in parents:\n",
        "    dict[x] = fit_func(target, x)\n",
        "  parents.sort(key=dict.get)\n",
        "  selected = parents[int(len(parents)/2):]\n",
        "  found = len(target)==dict[selected[-1]]\n",
        "  return selected, found\n",
        "\n",
        "  "
      ],
      "execution_count": null,
      "outputs": []
    },
    {
      "cell_type": "code",
      "metadata": {
        "id": "Iu0NxFYTLwhC",
        "colab_type": "code",
        "colab": {}
      },
      "source": [
        "#randomly change something in your solution\n",
        "def mutation(gene, mutation_n):\n",
        "  for x in range(mutation_n):\n",
        "    index = int(random.random()*len(gene))\n",
        "    gene = gene[:index] + random.choice(letters) + gene[index+1:]\n",
        "  return gene"
      ],
      "execution_count": null,
      "outputs": []
    },
    {
      "cell_type": "markdown",
      "metadata": {
        "id": "Bpn6kycGyKaR",
        "colab_type": "text"
      },
      "source": [
        "Main loop starts here:"
      ]
    },
    {
      "cell_type": "code",
      "metadata": {
        "id": "vmuLg21N-JEu",
        "colab_type": "code",
        "colab": {}
      },
      "source": [
        "target = input (\"Input: \")\n",
        "print (\"target: \", target)\n",
        "length = len(target)\n",
        "print (length)\n",
        "\n",
        "parents = generate_population(length,n)\n",
        "# print (parents)\n",
        "\n",
        "found = False\n",
        "iteration_num = 0\n",
        "\n",
        "while found == False:\n",
        "  iteration_num +=1\n",
        "  print (\"iteration \", iteration_num)\n",
        "  selected, found = select_parents (target, parents)\n",
        "  #print (selected)\n",
        "  \n",
        "\n",
        "  mutated = []\n",
        "  mutation_n = 1\n",
        "  for gene in selected:\n",
        "    if random.random()>0.8:\n",
        "      mutated.append(mutation(gene, mutation_n))\n",
        "    else:\n",
        "      mutated.append(gene)\n",
        "  \n",
        "  parents = selected+mutated\n",
        "  \n",
        "\n"
      ],
      "execution_count": null,
      "outputs": []
    }
  ]
}