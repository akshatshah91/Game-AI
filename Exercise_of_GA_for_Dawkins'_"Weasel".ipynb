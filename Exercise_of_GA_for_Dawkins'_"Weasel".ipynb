{
  "nbformat": 4,
  "nbformat_minor": 0,
  "metadata": {
    "colab": {
      "name": "Exercise of GA for Dawkins' \"Weasel\"",
      "provenance": [],
      "collapsed_sections": [],
      "include_colab_link": true
    },
    "kernelspec": {
      "name": "python3",
      "display_name": "Python 3"
    }
  },
  "cells": [
    {
      "cell_type": "markdown",
      "metadata": {
        "id": "view-in-github",
        "colab_type": "text"
      },
      "source": [
        "<a href=\"https://colab.research.google.com/github/akshatshah91/Game-AI/blob/master/Exercise_of_GA_for_Dawkins'_%22Weasel%22.ipynb\" target=\"_parent\"><img src=\"https://colab.research.google.com/assets/colab-badge.svg\" alt=\"Open In Colab\"/></a>"
      ]
    },
    {
      "cell_type": "code",
      "metadata": {
        "id": "1XMgCPxs_t2J",
        "colab_type": "code",
        "colab": {}
      },
      "source": [
        "import random\n",
        "import string\n",
        "import numpy as np\n",
        "import copy"
      ],
      "execution_count": 3,
      "outputs": []
    },
    {
      "cell_type": "markdown",
      "metadata": {
        "id": "wSMHryYRNS6x",
        "colab_type": "text"
      },
      "source": [
        "Define Constants:\n",
        "\n",
        "n: population size, default to 100\n",
        "\n",
        "top: number of parents to be selected, defauylt to n/2\n",
        "\n",
        "\n"
      ]
    },
    {
      "cell_type": "code",
      "metadata": {
        "id": "9KitAXHEO8Vv",
        "colab_type": "code",
        "colab": {}
      },
      "source": [
        "n = 100\n",
        "top = n/2\n",
        "letters = string.ascii_letters+\" \"+\"!\"+\"?\"+\".\"+\",\""
      ],
      "execution_count": 4,
      "outputs": []
    },
    {
      "cell_type": "code",
      "metadata": {
        "id": "o-spEzfr_C1a",
        "colab_type": "code",
        "colab": {}
      },
      "source": [
        "def generate_population (length, n):\n",
        "  parents = []\n",
        "  for x in range(n):\n",
        "    parents.append(''.join(random.choice(letters) for y in range(length)))\n",
        " \n",
        "  return parents"
      ],
      "execution_count": 5,
      "outputs": []
    },
    {
      "cell_type": "code",
      "metadata": {
        "id": "KpZziL03UnZV",
        "colab_type": "code",
        "colab": {}
      },
      "source": [
        "def fit_func(target, generated):\n",
        "  fit = 0\n",
        "  for x in range(len(target)):\n",
        "    if(target[x] == generated[x]):\n",
        "      fit += 1\n",
        "  return fit"
      ],
      "execution_count": 16,
      "outputs": []
    },
    {
      "cell_type": "code",
      "metadata": {
        "id": "Za4kieCdTm7o",
        "colab_type": "code",
        "colab": {
          "base_uri": "https://localhost:8080/",
          "height": 34
        },
        "outputId": "df68c7ab-8cce-4ddf-8a66-d4b370e2e74a"
      },
      "source": [
        "input = \"testing\"\n",
        "length = len(input)\n",
        "parents = generate_population(length, 12)\n",
        "fit = []\n",
        "for p in parents:\n",
        "  fit.append(fit_func(input, p))\n",
        "print(parents, fit)"
      ],
      "execution_count": 22,
      "outputs": [
        {
          "output_type": "stream",
          "text": [
            "['VidIsJp', 'eWMgUPc', 'Nz,txKh', 'ggHRUnx', 'XJtUG!I', 'ZrFlQIK', ' CGMl.y', 'PY!esAQ', 'anWknhi', 'cr!lcRl', 'ugrJoNp', 'E sw Mo'] [0, 0, 1, 1, 0, 0, 0, 0, 0, 0, 0, 1]\n"
          ],
          "name": "stdout"
        }
      ]
    },
    {
      "cell_type": "code",
      "metadata": {
        "id": "DuulmrahM6v9",
        "colab_type": "code",
        "colab": {}
      },
      "source": [
        "#select the top half of the population\n",
        "def select_parents (target, parents):\n",
        "  \n",
        "  found = False\n",
        "  \n",
        "  selected = []\n",
        "  \n",
        "  return selected, found\n",
        "\n",
        "  "
      ],
      "execution_count": 10,
      "outputs": []
    },
    {
      "cell_type": "code",
      "metadata": {
        "id": "Iu0NxFYTLwhC",
        "colab_type": "code",
        "colab": {
          "base_uri": "https://localhost:8080/",
          "height": 35
        },
        "outputId": "1e1ee5f8-cf06-45ae-df16-f0f7d60211a3"
      },
      "source": [
        "#randomly change something in your solution\n",
        "def mutation(gene, mutation_n):\n",
        "  \n",
        "\n",
        "  return gene\n",
        "\n",
        "mutation(\"abcdefghi\", 1)\n"
      ],
      "execution_count": 11,
      "outputs": [
        {
          "output_type": "execute_result",
          "data": {
            "application/vnd.google.colaboratory.intrinsic+json": {
              "type": "string"
            },
            "text/plain": [
              "'abcdefghi'"
            ]
          },
          "metadata": {
            "tags": []
          },
          "execution_count": 11
        }
      ]
    },
    {
      "cell_type": "markdown",
      "metadata": {
        "id": "Bpn6kycGyKaR",
        "colab_type": "text"
      },
      "source": [
        "Main loop starts here:"
      ]
    },
    {
      "cell_type": "code",
      "metadata": {
        "id": "vmuLg21N-JEu",
        "colab_type": "code",
        "colab": {}
      },
      "source": [
        "target = input (\"Input: \")\n",
        "print (\"target: \", target)\n",
        "length = len(target)\n",
        "print (length)\n",
        "\n",
        "parents = generate_population(length,n)\n",
        "# print (parents)\n",
        "\n",
        "found = False\n",
        "iteration_num = 0\n",
        "\n",
        "while found == False:\n",
        "  iteration_num +=1\n",
        "  print (\"iteration \", iteration_num)\n",
        "  selected, found = select_parents (target, parents)\n",
        "  #print (selected)\n",
        "  \n",
        "\n",
        "  mutated = []\n",
        "  mutation_n = 1\n",
        "  for gene in selected:\n",
        "    if random.random()>0.8:\n",
        "      mutated.append(mutation(gene, mutation_n))\n",
        "    else:\n",
        "      mutated.append(gene)\n",
        "  \n",
        "  parents = selected+mutated\n",
        "  \n",
        "\n"
      ],
      "execution_count": null,
      "outputs": []
    }
  ]
}