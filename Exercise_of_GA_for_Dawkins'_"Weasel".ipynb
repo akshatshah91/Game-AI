{
  "nbformat": 4,
  "nbformat_minor": 0,
  "metadata": {
    "colab": {
      "name": "Exercise of GA for Dawkins' \"Weasel\"",
      "provenance": [],
      "collapsed_sections": [],
      "include_colab_link": true
    },
    "kernelspec": {
      "name": "python3",
      "display_name": "Python 3"
    }
  },
  "cells": [
    {
      "cell_type": "markdown",
      "metadata": {
        "id": "view-in-github",
        "colab_type": "text"
      },
      "source": [
        "<a href=\"https://colab.research.google.com/github/akshatshah91/Game-AI/blob/master/Exercise_of_GA_for_Dawkins'_%22Weasel%22.ipynb\" target=\"_parent\"><img src=\"https://colab.research.google.com/assets/colab-badge.svg\" alt=\"Open In Colab\"/></a>"
      ]
    },
    {
      "cell_type": "code",
      "metadata": {
        "id": "1XMgCPxs_t2J",
        "colab_type": "code",
        "colab": {}
      },
      "source": [
        "import random\n",
        "import string\n",
        "import numpy as np\n",
        "import copy"
      ],
      "execution_count": null,
      "outputs": []
    },
    {
      "cell_type": "markdown",
      "metadata": {
        "id": "wSMHryYRNS6x",
        "colab_type": "text"
      },
      "source": [
        "Define Constants:\n",
        "\n",
        "n: population size, default to 100\n",
        "\n",
        "top: number of parents to be selected, default to n/2\n",
        "\n",
        "\n"
      ]
    },
    {
      "cell_type": "code",
      "metadata": {
        "id": "9KitAXHEO8Vv",
        "colab_type": "code",
        "colab": {}
      },
      "source": [
        "n = 100\n",
        "top = n/2\n",
        "letters = string.ascii_letters+\" \"+\"!\"+\"?\"+\".\"+\",\""
      ],
      "execution_count": null,
      "outputs": []
    },
    {
      "cell_type": "code",
      "metadata": {
        "id": "o-spEzfr_C1a",
        "colab_type": "code",
        "colab": {}
      },
      "source": [
        "def generate_population (length, n):\n",
        "  parents = []\n",
        "  for x in range(n):\n",
        "    parents.append(''.join(random.choice(letters) for y in range(length)))\n",
        "  return parents"
      ],
      "execution_count": null,
      "outputs": []
    },
    {
      "cell_type": "code",
      "metadata": {
        "id": "KpZziL03UnZV",
        "colab_type": "code",
        "colab": {}
      },
      "source": [
        "def fit_func(target, generated):\n",
        "  fit = 0\n",
        "  for x in range(len(target)):\n",
        "    if(target[x] == generated[x]):\n",
        "      fit += 1\n",
        "  return fit"
      ],
      "execution_count": null,
      "outputs": []
    },
    {
      "cell_type": "code",
      "metadata": {
        "id": "DuulmrahM6v9",
        "colab_type": "code",
        "colab": {}
      },
      "source": [
        "#select the top half of the population\n",
        "def select_parents (target, parents):\n",
        "  dict = {}\n",
        "  for x in parents:\n",
        "    dict[x] = fit_func(target, x)\n",
        "  parents.sort(reverse=True, key=dict.get)\n",
        "  selected = parents[:int(top)]\n",
        "  found = len(target)==dict[selected[-1]]\n",
        "  return selected, found\n",
        "\n",
        "  "
      ],
      "execution_count": 31,
      "outputs": []
    },
    {
      "cell_type": "code",
      "metadata": {
        "id": "hq_t1hMAMudn",
        "colab_type": "code",
        "colab": {}
      },
      "source": [
        "#crossbreed parents n times\n",
        "def crossbreed(parents, n):\n",
        "  children = []\n",
        "  for x in range(n):\n",
        "    index = int(random.random()*len(parents[0]))\n",
        "    parent1 = int(random.random()*len(parents))\n",
        "    parent2 = int(random.random()*len(parents))\n",
        "    children.append(parents[parent1][:index] + parents[parent2][index:])\n",
        "  parents += children"
      ],
      "execution_count": null,
      "outputs": []
    },
    {
      "cell_type": "code",
      "metadata": {
        "id": "Iu0NxFYTLwhC",
        "colab_type": "code",
        "colab": {}
      },
      "source": [
        "#randomly change something in your solution\n",
        "def mutation(gene, mutation_n):\n",
        "  for x in range(mutation_n):\n",
        "    index = int(random.random()*len(gene))\n",
        "    gene = gene[:index] + random.choice(letters) + gene[index+1:]\n",
        "  return gene"
      ],
      "execution_count": null,
      "outputs": []
    },
    {
      "cell_type": "markdown",
      "metadata": {
        "id": "Bpn6kycGyKaR",
        "colab_type": "text"
      },
      "source": [
        "Main loop starts here:"
      ]
    },
    {
      "cell_type": "code",
      "metadata": {
        "id": "vmuLg21N-JEu",
        "colab_type": "code",
        "colab": {
          "base_uri": "https://localhost:8080/",
          "height": 101
        },
        "outputId": "331113d7-ec31-4750-9d96-fff33d5f759e"
      },
      "source": [
        "#I added crossbreeding and changed it so that every string would mutate.\n",
        "target = input (\"Input: \")\n",
        "print (\"Target: \", target)\n",
        "length = len(target)\n",
        "print (\"Length:\", length)\n",
        "numTries = 10\n",
        "iterations = 0\n",
        "\n",
        "for x in range(numTries):\n",
        "  parents = generate_population(length,n)\n",
        "  found = False\n",
        "  iteration_num = 0\n",
        "\n",
        "  while found == False:\n",
        "    iteration_num +=1\n",
        "    selected, found = select_parents (target, parents)\n",
        "    crossbreed(selected, n)\n",
        "    \n",
        "    mutated = []\n",
        "    mutation_n = 1\n",
        "    for gene in selected:\n",
        "      mutated.append(mutation(gene, mutation_n))\n",
        "    \n",
        "    parents = selected+mutated\n",
        "    \n",
        "  iterations += iteration_num\n",
        "print(\"Number of tests:\", numTries)\n",
        "print(\"Average iterations until found: \", iterations/numTries)"
      ],
      "execution_count": 33,
      "outputs": [
        {
          "output_type": "stream",
          "text": [
            "Input: I like AI\n",
            "Target:  I like AI\n",
            "Length: 9\n",
            "Number of tests: 10\n",
            "Average iterations until found:  15.6\n"
          ],
          "name": "stdout"
        }
      ]
    }
  ]
}