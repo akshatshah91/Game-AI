{
  "nbformat": 4,
  "nbformat_minor": 0,
  "metadata": {
    "colab": {
      "name": "In-class exercise MDP.ipynb",
      "provenance": [],
      "authorship_tag": "ABX9TyMYP/6jox8T9hzq5m/8FSfJ",
      "include_colab_link": true
    },
    "kernelspec": {
      "name": "python3",
      "display_name": "Python 3"
    }
  },
  "cells": [
    {
      "cell_type": "markdown",
      "metadata": {
        "id": "view-in-github",
        "colab_type": "text"
      },
      "source": [
        "<a href=\"https://colab.research.google.com/github/akshatshah91/Game-AI/blob/master/In_class_exercise_MDP.ipynb\" target=\"_parent\"><img src=\"https://colab.research.google.com/assets/colab-badge.svg\" alt=\"Open In Colab\"/></a>"
      ]
    },
    {
      "cell_type": "code",
      "metadata": {
        "id": "4XMr_hgv7sxc"
      },
      "source": [
        "reward = {\"S1\":0, \"S2\":0.1, \"S3\":0.5, \"S4\":-0.1}\n",
        "a3Probabilites = {(\"S1\",\"S1\"):0.1, (\"S1\",\"S2\"):0.8, (\"S1\",\"S3\"):0.1,\n",
        "                  (\"S2\",\"S1\"):0.6, (\"S2\",\"S3\"):0.3, (\"S2\",\"S3\"):0.1,\n",
        "                  (\"S3\",\"S1\"):0.1, (\"S3\",\"S2\"):0.4, (\"S3\",\"S3\"):0.2, (\"S3\",\"S4\"):0.2,\n",
        "                  (\"S4\",\"S2\"):0.3, (\"S4\",\"S3\"):0.5, (\"S4\",\"S3\"):0.2}\n",
        "a5Probabilites = {(\"S1\",\"S1\"):0.1, (\"S1\",\"S2\"):0.8, (\"S1\",\"S3\"):0.1,\n",
        "                  (\"S2\",\"S1\"):0.6, (\"S2\",\"S3\"):0.3, (\"S2\",\"S3\"):0.1,\n",
        "                  (\"S3\",\"S1\"):0.2, (\"S3\",\"S2\"):0.2, (\"S3\",\"S3\"):0.4, (\"S3\",\"S4\"):0.2,\n",
        "                  (\"S4\",\"S2\"):0.3, (\"S4\",\"S3\"):0.5, (\"S4\",\"S3\"):0.2}"
      ],
      "execution_count": null,
      "outputs": []
    }
  ]
}