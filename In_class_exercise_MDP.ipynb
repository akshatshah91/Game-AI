{
  "nbformat": 4,
  "nbformat_minor": 0,
  "metadata": {
    "colab": {
      "name": "In-class exercise MDP.ipynb",
      "provenance": [],
      "authorship_tag": "ABX9TyMRXGAStsJLILNvg1DjbIOg",
      "include_colab_link": true
    },
    "kernelspec": {
      "name": "python3",
      "display_name": "Python 3"
    }
  },
  "cells": [
    {
      "cell_type": "markdown",
      "metadata": {
        "id": "view-in-github",
        "colab_type": "text"
      },
      "source": [
        "<a href=\"https://colab.research.google.com/github/akshatshah91/Game-AI/blob/master/In_class_exercise_MDP.ipynb\" target=\"_parent\"><img src=\"https://colab.research.google.com/assets/colab-badge.svg\" alt=\"Open In Colab\"/></a>"
      ]
    },
    {
      "cell_type": "code",
      "metadata": {
        "id": "4XMr_hgv7sxc"
      },
      "source": [
        "states = [\"S1\",\"S2\",\"S3\",\"S4\"]\n",
        "actions = [\"a1\",\"a2\",\"a3\",\"a4\",\"a5\"]\n",
        "reward = {\"S1\":0, \"S2\":0.1, \"S3\":0.5, \"S4\":-0.1}\n",
        "probabilities = {(\"S1\",\"a1\",\"S1\"):0.1, (\"S1\",\"a1\",\"S2\"):0.8, (\"S1\",\"a1\",\"S3\"):0.1,\n",
        "                 (\"S2\",\"a2\",\"S1\"):0.6, (\"S2\",\"a2\",\"S3\"):0.3, (\"S2\",\"a2\",\"S4\"):0.1,\n",
        "                 (\"S3\",\"a3\",\"S1\"):0.1, (\"S3\",\"a3\",\"S2\"):0.4, (\"S3\",\"a3\",\"S3\"):0.2, (\"S3\",\"a3\",\"S4\"):0.2,\n",
        "                 (\"S4\",\"a4\",\"S2\"):0.3, (\"S4\",\"a4\",\"S3\"):0.5, (\"S4\",\"a4\",\"S4\"):0.2,\n",
        "                 (\"S3\",\"a5\",\"S1\"):0.2, (\"S3\",\"a5\",\"S2\"):0.2, (\"S3\",\"a5\",\"S3\"):0.4, (\"S3\",\"a5\",\"S4\"):0.2}"
      ],
      "execution_count": 9,
      "outputs": []
    },
    {
      "cell_type": "code",
      "metadata": {
        "id": "KNJjsYnMVK9n"
      },
      "source": [
        "def nSteps(n, state):\n",
        "  if n == 0:\n",
        "    return 0\n",
        "  elif n == 1:\n",
        "    total = []\n",
        "    for a in actions:\n",
        "      t = 0\n",
        "      for s in states:\n",
        "        if probabilities.get((state,a,s)) != None:\n",
        "          t += probabilities[(state,a,s)]*reward[s]\n",
        "      total.append(t)\n",
        "    return max(total)\n",
        "  else:\n",
        "    total = []\n",
        "    for a in actions:\n",
        "      t = 0\n",
        "      for s in states:\n",
        "        if probabilities.get((state,a,s)) != None:\n",
        "          t += probabilities[(state,a,s)]*(reward[s] + nSteps(n-1,s))\n",
        "      total.append(t)\n",
        "    return max(total)\n"
      ],
      "execution_count": 7,
      "outputs": []
    },
    {
      "cell_type": "code",
      "metadata": {
        "id": "ak8CwcmAXexS",
        "outputId": "5e1c8aa0-3133-4a05-b0cb-be73afe6f95d",
        "colab": {
          "base_uri": "https://localhost:8080/",
          "height": 50
        }
      },
      "source": [
        "a3Total = 0\n",
        "for s in states:\n",
        "  a3Total += probabilities[(\"S3\",\"a3\",s)] * (reward[s] + nSteps(2, s))\n",
        "print(\"a3:\", a3Total)\n",
        "\n",
        "a5Total = 0\n",
        "for s in states:\n",
        "  a5Total += probabilities[(\"S3\",\"a5\",s)] * (reward[s] + nSteps(2, s))\n",
        "print(\"a5:\", a5Total)"
      ],
      "execution_count": 10,
      "outputs": [
        {
          "output_type": "stream",
          "text": [
            "a3: 0.43710000000000004\n",
            "a5: 0.561\n"
          ],
          "name": "stdout"
        }
      ]
    }
  ]
}