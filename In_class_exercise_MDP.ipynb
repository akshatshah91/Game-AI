{
  "nbformat": 4,
  "nbformat_minor": 0,
  "metadata": {
    "colab": {
      "name": "In-class exercise MDP.ipynb",
      "provenance": [],
      "authorship_tag": "ABX9TyNkKJgi6QIznltLd2eJx+ys",
      "include_colab_link": true
    },
    "kernelspec": {
      "name": "python3",
      "display_name": "Python 3"
    }
  },
  "cells": [
    {
      "cell_type": "markdown",
      "metadata": {
        "id": "view-in-github",
        "colab_type": "text"
      },
      "source": [
        "<a href=\"https://colab.research.google.com/github/akshatshah91/Game-AI/blob/master/In_class_exercise_MDP.ipynb\" target=\"_parent\"><img src=\"https://colab.research.google.com/assets/colab-badge.svg\" alt=\"Open In Colab\"/></a>"
      ]
    },
    {
      "cell_type": "code",
      "metadata": {
        "id": "4XMr_hgv7sxc"
      },
      "source": [
        "states = [\"S1\",\"S2\",\"S3\",\"S4\"]\n",
        "reward = {\"S1\":0, \"S2\":0.1, \"S3\":0.5, \"S4\":-0.1}\n",
        "a3Probabilites = {(\"S1\",\"S1\"):0.1, (\"S1\",\"S2\"):0.8, (\"S1\",\"S3\"):0.1, (\"S1\",\"S4\"):0,\n",
        "                  (\"S2\",\"S1\"):0.6, (\"S2\",\"S3\"):0.3, (\"S2\",\"S3\"):0.1, (\"S2\",\"S4\"):0,\n",
        "                  (\"S3\",\"S1\"):0.1, (\"S3\",\"S2\"):0.4, (\"S3\",\"S3\"):0.2, (\"S3\",\"S4\"):0.2,\n",
        "                  (\"S4\",\"S1\"):0, (\"S4\",\"S2\"):0.3, (\"S4\",\"S3\"):0.5, (\"S4\",\"S4\"):0.2}\n",
        "a5Probabilites = {(\"S1\",\"S1\"):0.1, (\"S1\",\"S2\"):0.8, (\"S1\",\"S3\"):0.1, (\"S1\",\"S4\"):0,\n",
        "                  (\"S2\",\"S1\"):0.6, (\"S2\",\"S3\"):0.3, (\"S2\",\"S3\"):0.1, (\"S2\",\"S4\"):0,\n",
        "                  (\"S3\",\"S1\"):0.2, (\"S3\",\"S2\"):0.2, (\"S3\",\"S3\"):0.4, (\"S3\",\"S4\"):0.2,\n",
        "                  (\"S4\",\"S1\"):0, (\"S4\",\"S2\"):0.3, (\"S4\",\"S3\"):0.5, (\"S4\",\"S4\"):0.2}"
      ],
      "execution_count": 9,
      "outputs": []
    },
    {
      "cell_type": "code",
      "metadata": {
        "id": "KNJjsYnMVK9n"
      },
      "source": [
        "def nSteps(n, probDict, state):\n",
        "  if n == 1:\n",
        "    total = []\n",
        "    for a in endState:\n",
        "      total.append(probDict[(state,a)] * reward[a])\n",
        "    return max(total)\n"
      ],
      "execution_count": 11,
      "outputs": []
    },
    {
      "cell_type": "code",
      "metadata": {
        "id": "ak8CwcmAXexS",
        "outputId": "15098acf-e8e1-4f5f-b2f0-7dd9b5f63e66",
        "colab": {
          "base_uri": "https://localhost:8080/"
        }
      },
      "source": [
        "a3Total = 0\n",
        "for s in states:\n",
        "  a3Total += a3Probabilites[(\"S3\", s)] * (reward[s] + nSteps(2, a3Probabilites, s))\n",
        "print(\"a3:\", a3Total)\n",
        "\n",
        "a5Total = 0\n",
        "for s in states:\n",
        "  a5Total += a5Probabilites[(\"S3\", s)] * (reward[s] + nSteps(2, a5Probabilites, s))\n",
        "print(\"a5:\", a5Total)"
      ],
      "execution_count": 12,
      "outputs": [
        {
          "output_type": "stream",
          "text": [
            "0.1\n"
          ],
          "name": "stdout"
        }
      ]
    }
  ]
}