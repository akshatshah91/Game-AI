{
  "nbformat": 4,
  "nbformat_minor": 0,
  "metadata": {
    "colab": {
      "name": "Monte Carlo Tree Search.ipynb",
      "provenance": [],
      "authorship_tag": "ABX9TyOo6Fjb+3vF8iWG7MPXUslF",
      "include_colab_link": true
    },
    "kernelspec": {
      "name": "python3",
      "display_name": "Python 3"
    }
  },
  "cells": [
    {
      "cell_type": "markdown",
      "metadata": {
        "id": "view-in-github",
        "colab_type": "text"
      },
      "source": [
        "<a href=\"https://colab.research.google.com/github/akshatshah91/Game-AI/blob/master/Monte_Carlo_Tree_Search.ipynb\" target=\"_parent\"><img src=\"https://colab.research.google.com/assets/colab-badge.svg\" alt=\"Open In Colab\"/></a>"
      ]
    },
    {
      "cell_type": "code",
      "metadata": {
        "id": "-q7JbOSuugyn"
      },
      "source": [
        "import gym\n",
        "import random\n",
        "import math\n",
        "import numpy as np\n",
        "from copy import copy\n",
        "import matplotlib.pyplot as plt\n",
        "from IPython.display import clear_output\n",
        "from collections import deque\n",
        "import sys"
      ],
      "execution_count": 35,
      "outputs": []
    },
    {
      "cell_type": "code",
      "metadata": {
        "id": "2k8f6Ds0v2Su"
      },
      "source": [
        "class Tree:\n",
        "  def __init__(self, env, actionSize):\n",
        "    self.env = copy(env)\n",
        "    self.parent = None\n",
        "    self.action = None\n",
        "    self.children = {}\n",
        "    for x in range(actionSize):\n",
        "      self.children[x] = (False, None)\n",
        "    self.state = None\n",
        "    self.gameOver = None\n",
        "    self.actionSize = actionSize\n",
        "    self.visited = 0\n",
        "    self.won = 0\n",
        "  \n",
        "  def isFullyExpanded(self):\n",
        "    for x in range(self.actionSize):\n",
        "      if self.children[x][0] is False:\n",
        "        return False\n",
        "    return True\n",
        "\n",
        "  def chooseUntriedAction(self):\n",
        "    actions = []\n",
        "    for x in range(self.actionSize):\n",
        "      if self.children[x][0] is False:\n",
        "        actions.append(x)\n",
        "    return random.choice(actions)\n",
        "  \n",
        "  def updateChildren(self,action, child):\n",
        "    self.children[action] = (True, child)"
      ],
      "execution_count": 37,
      "outputs": []
    },
    {
      "cell_type": "code",
      "metadata": {
        "id": "_Dl7LyOavEl4"
      },
      "source": [
        "def MCTS(env, s, actionSize, loops=100):\n",
        "  root = Tree(env, actionSize)\n",
        "  root.state = s\n",
        "  for x in range(loops):\n",
        "    v1 = treePolicy(root)\n",
        "    reward = defaultPolicy(v1)\n",
        "    backup(v1, reward)\n",
        "  return bestChild(root).action\n",
        "\n",
        "def treePolicy(v):\n",
        "  while not v.gameOver:\n",
        "    if not v.isFullyExpanded():\n",
        "      return expand(v)\n",
        "    v = bestChild(v)\n",
        "  return v\n",
        "\n",
        "def expand(v):\n",
        "  action = v.chooseUntriedAction()\n",
        "  v1 = Tree(v.env, actionSize)\n",
        "  v1.parent = v\n",
        "  v1.action = action\n",
        "  v1.state,v1.reward,v1.gameOver,_ = v1.env.step(action)\n",
        "  v.updateChildren(action, v1)\n",
        "  return v1\n",
        "\n",
        "def bestChild(v):\n",
        "  c = None\n",
        "  val = 0\n",
        "  for _,(_,child) in v.children.items():\n",
        "    calc = ((child.won/child.visited) + math.sqrt((2*math.log(v.visited))/child.visited))\n",
        "    if calc > val:\n",
        "      c = child\n",
        "      val = calc\n",
        "  return c\n",
        "\n",
        "def defaultPolicy(v):\n",
        "  state = copy(v.state)\n",
        "  env = copy(v.env)\n",
        "  gameOver = v.gameOver\n",
        "  reward = 0\n",
        "  while not gameOver:\n",
        "    action = np.random.randint(v.actionSize)\n",
        "    state,r,gameOver,_ = env.step(action)\n",
        "    reward += r\n",
        "  return reward\n",
        "\n",
        "def backup(v, reward):\n",
        "  while v is not None:\n",
        "    v.visited += 1\n",
        "    if reward > 0:\n",
        "      v.won += 1\n",
        "    v = v.parent"
      ],
      "execution_count": 49,
      "outputs": []
    },
    {
      "cell_type": "code",
      "metadata": {
        "id": "JeXXhszTwePb"
      },
      "source": [
        "env = gym.make(\"Taxi-v3\")\n",
        "actionSize = 6\n",
        "s = env.reset()\n",
        "gameOver = False\n",
        "reward = 0\n",
        "action = None\n",
        "for x in range(5):\n",
        "  print(action)\n",
        "  env.render()\n",
        "  action = MCTS(env, s, actionSize)\n",
        "  s,r,gameOver,_ = env.step(action)\n",
        "  reward += r\n",
        "print(reward)"
      ],
      "execution_count": null,
      "outputs": []
    }
  ]
}