{
  "nbformat": 4,
  "nbformat_minor": 0,
  "metadata": {
    "colab": {
      "name": "HW3 Q-learning vs SARSA.ipynb",
      "provenance": [],
      "authorship_tag": "ABX9TyM4MTcQHlmGZ/jH7YjluidH",
      "include_colab_link": true
    },
    "kernelspec": {
      "name": "python3",
      "display_name": "Python 3"
    }
  },
  "cells": [
    {
      "cell_type": "markdown",
      "metadata": {
        "id": "view-in-github",
        "colab_type": "text"
      },
      "source": [
        "<a href=\"https://colab.research.google.com/github/akshatshah91/Game-AI/blob/master/HW3_Q_learning_vs_SARSA.ipynb\" target=\"_parent\"><img src=\"https://colab.research.google.com/assets/colab-badge.svg\" alt=\"Open In Colab\"/></a>"
      ]
    },
    {
      "cell_type": "code",
      "metadata": {
        "id": "4XMr_hgv7sxc"
      },
      "source": [
        "import gym\n",
        "import numpy as np\n",
        "import random\n",
        "import matplotlib.pyplot as plt"
      ],
      "execution_count": 1,
      "outputs": []
    },
    {
      "cell_type": "code",
      "metadata": {
        "id": "Jfr_fC4t_ERo"
      },
      "source": [
        "alpha = 0.1\n",
        "gamma = 0.5\n",
        "epsilon = 0.1\n",
        "episodes = 50000\n",
        "tests = 10"
      ],
      "execution_count": 2,
      "outputs": []
    },
    {
      "cell_type": "code",
      "metadata": {
        "id": "rbZyxvRHDJco"
      },
      "source": [
        "def getAction(s,q,env,e):\n",
        "  a = None\n",
        "  if random.uniform(0,1) < e:\n",
        "    a = env.action_space.sample()\n",
        "  else:\n",
        "    a = np.argmax(q[s,:])\n",
        "  return a"
      ],
      "execution_count": 3,
      "outputs": []
    },
    {
      "cell_type": "code",
      "metadata": {
        "id": "axNtbQFa_M8r"
      },
      "source": [
        "def trainQ(env, q, fixedAlpha=True):\n",
        "  s = env.reset()\n",
        "  q = np.zeros((env.observation_space.n,env.action_space.n))\n",
        "  alpha = 0.1\n",
        "  for x in range(1, episodes+1):\n",
        "    s = env.reset()\n",
        "    gameOver = False\n",
        "    if not fixedAlpha:\n",
        "      alpha = 1/x\n",
        "    while not gameOver:\n",
        "      a = getAction(s,q,env,epsilon)\n",
        "      sNew,r,gameOver,_ = env.step(a)\n",
        "      q[s,a] += alpha*(r + gamma*np.max(q[sNew,:]) - q[s,a])\n",
        "      s = sNew\n",
        "  return q"
      ],
      "execution_count": 16,
      "outputs": []
    },
    {
      "cell_type": "code",
      "metadata": {
        "id": "JX4hKakzC6eh"
      },
      "source": [
        "def trainSARSA(env, q, fixedAlpha=True):\n",
        "  s = env.reset()\n",
        "  q = np.zeros((env.observation_space.n,env.action_space.n))\n",
        "  alpha = 0.1\n",
        "  for x in range(1,episodes+1):\n",
        "    s = env.reset()\n",
        "    gameOver = False\n",
        "    if not fixedAlpha:\n",
        "      alpha = 1/x\n",
        "    a = getAction(s,q,env,epsilon)\n",
        "    while not gameOver:\n",
        "      sNew,r,gameOver,_ = env.step(a)\n",
        "      aNew = getAction(sNew,q,env,epsilon)\n",
        "      q[s,a] += alpha*(r + gamma*q[sNew,aNew] - q[s,a])\n",
        "      s = sNew\n",
        "      a = aNew\n",
        "  return q"
      ],
      "execution_count": 17,
      "outputs": []
    },
    {
      "cell_type": "code",
      "metadata": {
        "id": "ShzrAvT3AEZO"
      },
      "source": [
        "def test(env,q):\n",
        "  rewards = []\n",
        "  for x in range(1,tests+1):\n",
        "    s = env.reset()\n",
        "    reward = 0\n",
        "    gameOver = False\n",
        "    while not gameOver:\n",
        "      a = np.argmax(q[s,:])\n",
        "      s,r,gameOver,_ = env.step(a)\n",
        "      reward += r\n",
        "    rewards.append(reward)\n",
        "  return rewards"
      ],
      "execution_count": 5,
      "outputs": []
    },
    {
      "cell_type": "code",
      "metadata": {
        "id": "JgOClRb7Broe",
        "outputId": "c8121a27-d6cc-4ad0-ad36-9ee4bfc2e828",
        "colab": {
          "base_uri": "https://localhost:8080/",
          "height": 469
        }
      },
      "source": [
        "q = None\n",
        "env = gym.make(\"Taxi-v3\")\n",
        "x = [1,2,3,4,5,6,7,8,9,10]\n",
        "\n",
        "print(\"Q-Learning with fixed alpha\")\n",
        "q = trainQ(env,q)\n",
        "r1 = test(env,q)\n",
        "plt.plot(x,r1,label = \"Q fixed\")\n",
        "print(r1,\"\\n\")\n",
        "\n",
        "print(\"Q-Learning with dynamic alpha\")\n",
        "q = trainQ(env,q,False)\n",
        "r2 = test(env,q)\n",
        "plt.plot(x,r2,label = \"Q varied\")\n",
        "print(r2,\"\\n\")\n",
        "\n",
        "print(\"SARSA with fixed alpha\")\n",
        "q = trainSARSA(env,q)\n",
        "r3 = test(env,q)\n",
        "plt.plot(x,r3,label = \"SARSA fixed\")\n",
        "print(r3,\"\\n\")\n",
        "\n",
        "print(\"SARSA with dynamic alpha\")\n",
        "trainSARSA(env,q,False)\n",
        "q = r4 = test(env,q)\n",
        "plt.plot(x,r4,label = \"SARSA varied\")\n",
        "print(r4,\"\\n\")\n",
        "\n",
        "plt.legend()\n",
        "plt.show()"
      ],
      "execution_count": 18,
      "outputs": [
        {
          "output_type": "stream",
          "text": [
            "Q-Learning with fixed alpha\n",
            "[11, 11, 8, 5, 14, 3, 9, 6, 5, 7] \n",
            "\n",
            "Q-Learning with dynamic alpha\n",
            "[-200, -200, -200, -200, -200, -200, -200, -200, -200, -200] \n",
            "\n",
            "SARSA with fixed alpha\n",
            "[-200, -200, -200, 10, 6, -200, -200, -200, -200, -200] \n",
            "\n",
            "SARSA with dynamic alpha\n",
            "[-200, 9, 13, -200, -200, 7, 7, 11, -200, -200] \n",
            "\n"
          ],
          "name": "stdout"
        },
        {
          "output_type": "display_data",
          "data": {
            "image/png": "[encoded data removed]",
            "text/plain": [
              "<Figure size 432x288 with 1 Axes>"
            ]
          },
          "metadata": {
            "tags": [],
            "needs_background": "light"
          }
        }
      ]
    },
    {
      "cell_type": "markdown",
      "metadata": {
        "id": "57Aj-h_ZZfau"
      },
      "source": [
        "The base alpha I am using is 0.1. For the dynamic test, my alpha is 1/x where x is the episode. This means that my alpha decreases quickly at first but slows down later. Also, the later training does not have as large an impact on the q table as the initial episodes. Before running the tests, I predict that regular q learning with fixed alpha will work best. SARSA only uses the values it has gotten by moving whereas q learning uses the best possible q value. I think this will work better, especially since there are no traps end states that guarantee a negative final reward. Also, there are so many different starting states so the dynamic alpha will not work as well because it will update some of the states quickly but then some states not achieved in the first few episodes will only update slowly."
      ]
    },
    {
      "cell_type": "markdown",
      "metadata": {
        "id": "ob1z1U4Ua3x-"
      },
      "source": [
        "After running the experiment I see that my prediction was correct. Q learning with a fixed alpha worked best and most consistently. It seems like Q learning with varied alpha did not work at all since during the test runs it achieved a score of -200. Also, SARSA did not seem to work as well as regular Q learning, however, the varied alpha SARSA worked better than the varied alpha Q learning. There are some games that SARSA would work better than Q learning, and varied alpha would be vastly superior to fixed, but I think in the taxi environment, the added complexity is detrimental to the AI's performance."
      ]
    }
  ]
}