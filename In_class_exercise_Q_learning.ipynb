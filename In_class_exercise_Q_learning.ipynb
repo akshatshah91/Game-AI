{
  "nbformat": 4,
  "nbformat_minor": 0,
  "metadata": {
    "colab": {
      "name": "In-class exercise Q learning.ipynb",
      "provenance": [],
      "authorship_tag": "ABX9TyMN0t90uPSTkduXhmbcAh/S",
      "include_colab_link": true
    },
    "kernelspec": {
      "name": "python3",
      "display_name": "Python 3"
    }
  },
  "cells": [
    {
      "cell_type": "markdown",
      "metadata": {
        "id": "view-in-github",
        "colab_type": "text"
      },
      "source": [
        "<a href=\"https://colab.research.google.com/github/akshatshah91/Game-AI/blob/master/In_class_exercise_Q_learning.ipynb\" target=\"_parent\"><img src=\"https://colab.research.google.com/assets/colab-badge.svg\" alt=\"Open In Colab\"/></a>"
      ]
    },
    {
      "cell_type": "code",
      "metadata": {
        "id": "4XMr_hgv7sxc"
      },
      "source": [
        "import gym\n",
        "import numpy as np\n",
        "from IPython.display import clear_output"
      ],
      "execution_count": 19,
      "outputs": []
    },
    {
      "cell_type": "code",
      "metadata": {
        "id": "IiEGycnJdrLQ"
      },
      "source": [
        "alpha = 0.03\n",
        "gamma = 0.5\n",
        "episodes = 10"
      ],
      "execution_count": 36,
      "outputs": []
    },
    {
      "cell_type": "code",
      "metadata": {
        "id": "K8BHq27EeQzR"
      },
      "source": [
        "def getAction(s):\n",
        "  index = 0\n",
        "  max = q[s][0]\n",
        "  for x in range(1,len(q[s])):\n",
        "    if q[s][x] > max:\n",
        "      max = q[s][x]\n",
        "      index = x\n",
        "  return index,max"
      ],
      "execution_count": 30,
      "outputs": []
    },
    {
      "cell_type": "code",
      "metadata": {
        "id": "qsDebUeMbkYd",
        "outputId": "10205145-4415-4433-fe7a-d6c63330ccf9",
        "colab": {
          "base_uri": "https://localhost:8080/",
          "height": 185
        }
      },
      "source": [
        "env = gym.make(\"Taxi-v3\")\n",
        "q = np.random.rand(env.observation_space.n,env.action_space.n)\n",
        "rewards = []\n",
        "for x in range(episodes):\n",
        "  s = env.reset()\n",
        "  reward = 0\n",
        "  gameOver = False\n",
        "  print(reward)\n",
        "  env.render()\n",
        "  while not gameOver:\n",
        "    clear_output(wait=True)\n",
        "    a,m = getAction(s)\n",
        "    sNew,r,gameOver,_ = env.step(a)\n",
        "    reward += r\n",
        "    q[s][a] += alpha * (r + gamma*m - q[s][a])\n",
        "    s = sNew\n",
        "    print(reward)\n",
        "    env.render()\n",
        "  rewards.append(reward)\n",
        "print(rewards)"
      ],
      "execution_count": 38,
      "outputs": [
        {
          "output_type": "stream",
          "text": [
            "-380\n",
            "+---------+\n",
            "|\u001b[35mR\u001b[0m: | : :G|\n",
            "| : | : : |\n",
            "| : : : : |\n",
            "| | : | : |\n",
            "|Y| :\u001b[42m_\u001b[0m|B: |\n",
            "+---------+\n",
            "  (Dropoff)\n",
            "[-353, -353, -308, -317, -335, -308, -389, -407, -371, -380]\n"
          ],
          "name": "stdout"
        }
      ]
    },
    {
      "cell_type": "code",
      "metadata": {
        "id": "XEpmA0BgXKQu",
        "outputId": "5c144572-363c-4948-d5a2-e62f487da89a",
        "colab": {
          "base_uri": "https://localhost:8080/",
          "height": 185
        }
      },
      "source": [
        "env = gym.make(\"Taxi-v3\")\n",
        "s = env.reset()\n",
        "reward = 0\n",
        "gameOver = False\n",
        "print(s)\n",
        "env.render()\n",
        "a = int(input())\n",
        "while a < 7 and not gameOver:\n",
        "  clear_output(wait=True)\n",
        "  s,r,gameOver,_ = env.step(a)\n",
        "  reward += r\n",
        "  print(s,reward)\n",
        "  env.render()\n",
        "  a = int(input())"
      ],
      "execution_count": 18,
      "outputs": [
        {
          "output_type": "stream",
          "text": [
            "410 8\n",
            "+---------+\n",
            "|R: | : :G|\n",
            "| : | : : |\n",
            "| : : : : |\n",
            "| | : | : |\n",
            "|\u001b[35m\u001b[34;1m\u001b[43mY\u001b[0m\u001b[0m\u001b[0m| : |B: |\n",
            "+---------+\n",
            "  (Dropoff)\n",
            "4\n"
          ],
          "name": "stdout"
        }
      ]
    }
  ]
}