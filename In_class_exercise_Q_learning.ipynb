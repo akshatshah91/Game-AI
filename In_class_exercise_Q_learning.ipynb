{
  "nbformat": 4,
  "nbformat_minor": 0,
  "metadata": {
    "colab": {
      "name": "In-class exercise Q learning.ipynb",
      "provenance": [],
      "authorship_tag": "ABX9TyNSCiqh+YtBOIygXQK+UHSM",
      "include_colab_link": true
    },
    "kernelspec": {
      "name": "python3",
      "display_name": "Python 3"
    }
  },
  "cells": [
    {
      "cell_type": "markdown",
      "metadata": {
        "id": "view-in-github",
        "colab_type": "text"
      },
      "source": [
        "<a href=\"https://colab.research.google.com/github/akshatshah91/Game-AI/blob/master/In_class_exercise_Q_learning.ipynb\" target=\"_parent\"><img src=\"https://colab.research.google.com/assets/colab-badge.svg\" alt=\"Open In Colab\"/></a>"
      ]
    },
    {
      "cell_type": "code",
      "metadata": {
        "id": "4XMr_hgv7sxc"
      },
      "source": [
        "import gym\n",
        "import numpy as np\n",
        "import random\n",
        "from IPython.display import clear_output"
      ],
      "execution_count": 62,
      "outputs": []
    },
    {
      "cell_type": "code",
      "metadata": {
        "id": "IiEGycnJdrLQ"
      },
      "source": [
        "alpha = 0.1\n",
        "gamma = 0.5\n",
        "epsilon = 0.1\n",
        "episodes = 50000\n",
        "tests = 10"
      ],
      "execution_count": 85,
      "outputs": []
    },
    {
      "cell_type": "code",
      "metadata": {
        "id": "bTe_zMCq31m3"
      },
      "source": [
        "def getAction(s,q,env):\n",
        "  a = None\n",
        "  r = random.uniform(0,1)\n",
        "  if r < epsilon:\n",
        "    a = env.action_space.sample()\n",
        "  else:\n",
        "    a = np.argmax(q[s,:])\n",
        "  return a"
      ],
      "execution_count": 66,
      "outputs": []
    },
    {
      "cell_type": "code",
      "metadata": {
        "id": "0n2CYbxt3hkR"
      },
      "source": [
        "#train\n",
        "env = gym.make(\"Taxi-v3\")\n",
        "q = np.zeros((env.observation_space.n,env.action_space.n))\n",
        "for x in range(1,episodes+1):\n",
        "  s = env.reset()\n",
        "  reward = 0\n",
        "  gameOver = False\n",
        "  while not gameOver:\n",
        "    action = getAction(s,q,env)\n",
        "    sNew,r,gameOver,_ = env.step(action)\n",
        "    q[s,action] += alpha*(r + gamma*np.max(q[sNew,:]) - q[s,action])\n",
        "    s = sNew\n",
        "    reward += r"
      ],
      "execution_count": 86,
      "outputs": []
    },
    {
      "cell_type": "code",
      "metadata": {
        "id": "3YswqKTA7KIY",
        "outputId": "15148a8e-0b9b-4f6f-9e18-fd63b3eb1d0e",
        "colab": {
          "base_uri": "https://localhost:8080/",
          "height": 204
        }
      },
      "source": [
        "#test\n",
        "rewards = []\n",
        "for x in range(1,tests+1):\n",
        "  s = env.reset()\n",
        "  reward = 0\n",
        "  gameOver = False\n",
        "  while not gameOver:\n",
        "    action = np.argmax(q[s,:])\n",
        "    s,r,gameOver,_ = env.step(action)\n",
        "    reward += r\n",
        "  rewards.append(reward)\n",
        "  print(\"Test \",x,\": \",reward,sep='')\n",
        "print(\"Average:\", sum(rewards)/len(rewards))"
      ],
      "execution_count": 90,
      "outputs": [
        {
          "output_type": "stream",
          "text": [
            "Test 1: 8\n",
            "Test 2: 5\n",
            "Test 3: 7\n",
            "Test 4: 7\n",
            "Test 5: 11\n",
            "Test 6: 4\n",
            "Test 7: 9\n",
            "Test 8: 9\n",
            "Test 9: 11\n",
            "Test 10: 10\n",
            "Average: 8.1\n"
          ],
          "name": "stdout"
        }
      ]
    }
  ]
}