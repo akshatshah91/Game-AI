{
  "nbformat": 4,
  "nbformat_minor": 0,
  "metadata": {
    "colab": {
      "name": "gym_into.ipynb",
      "provenance": [],
      "collapsed_sections": [],
      "include_colab_link": true
    },
    "kernelspec": {
      "name": "python3",
      "display_name": "Python 3"
    }
  },
  "cells": [
    {
      "cell_type": "markdown",
      "metadata": {
        "id": "view-in-github",
        "colab_type": "text"
      },
      "source": [
        "<a href=\"https://colab.research.google.com/github/akshatshah91/Game-AI/blob/master/GA_with_NN_for_GA.ipynb\" target=\"_parent\"><img src=\"https://colab.research.google.com/assets/colab-badge.svg\" alt=\"Open In Colab\"/></a>"
      ]
    },
    {
      "cell_type": "code",
      "metadata": {
        "id": "YITI9oD6Rlpr",
        "colab_type": "code",
        "colab": {}
      },
      "source": [
        "!pip install gym\n",
        "!apt-get install python-opengl -y"
      ],
      "execution_count": null,
      "outputs": []
    },
    {
      "cell_type": "code",
      "metadata": {
        "id": "omhmxArqS6ci",
        "colab_type": "code",
        "colab": {}
      },
      "source": [
        "import numpy as np\n",
        "import matplotlib.pyplot as plt\n",
        "import gym\n",
        "import torch\n",
        "import torch.nn as nn\n",
        "import copy"
      ],
      "execution_count": 47,
      "outputs": []
    },
    {
      "cell_type": "code",
      "metadata": {
        "id": "Ig-Xb_d2FNti",
        "colab_type": "code",
        "colab": {}
      },
      "source": [
        "input_size     = 4     # Cart pos and speed\n",
        "hidden_size    = 5    # The number of nodes at the hidden layer\n",
        "output_size    = 2     # Number of outputs: left and right\n",
        "generations    = 50\n",
        "startingSize   = 100\n",
        "bestPopulation = int(startingSize/2)\n",
        "averageRuns    = 3\n",
        "mutationRate   = 0.05\n",
        "scoreCap = 500"
      ],
      "execution_count": 97,
      "outputs": []
    },
    {
      "cell_type": "code",
      "metadata": {
        "id": "9944urkkFRoC",
        "colab_type": "code",
        "colab": {}
      },
      "source": [
        "class CartPoleNN(nn.Module):\n",
        "    def __init__(self, input_size, hidden_size, output_size):\n",
        "        super(CartPoleNN, self).__init__()             # Inherited from the parent class nn.Module\n",
        "        self.fc1 = nn.Linear(input_size, hidden_size)  # 1st Full-Connected Layer: 784 (input data) -> 500 (hidden node)\n",
        "        self.relu = nn.ReLU()                          # Non-Linear ReLU Layer: max(0,x)\n",
        "        self.fc2 = nn.Linear(hidden_size, output_size) # 2nd Full-Connected Layer: 500 (hidden node) -> 10 (output class)\n",
        "    \n",
        "    def forward(self, x):                              # Forward pass: stacking each layer together\n",
        "        out = self.fc1(x)\n",
        "        out = self.relu(out)\n",
        "        out = self.fc2(out)\n",
        "        return out"
      ],
      "execution_count": 3,
      "outputs": []
    },
    {
      "cell_type": "code",
      "metadata": {
        "id": "0YY1tyn3NhVa",
        "colab_type": "code",
        "colab": {}
      },
      "source": [
        "def init_weights(w):\n",
        "  if(type(w)==nn.Linear):\n",
        "    print(\"yes\")\n",
        "    torch.nn.init.xavier_uniform(w.weight)\n",
        "    w.bias.data.fill(0.00)"
      ],
      "execution_count": 4,
      "outputs": []
    },
    {
      "cell_type": "code",
      "metadata": {
        "id": "U-hpj-JyWOCJ",
        "colab_type": "code",
        "colab": {}
      },
      "source": [
        "def generatePopulation(popSize):\n",
        "  agents = []\n",
        "  for x in range(popSize):\n",
        "    tmp = CartPoleNN(input_size, hidden_size, output_size)\n",
        "    for param in tmp.parameters():\n",
        "      param.requires_grad = False\n",
        "    init_weights(tmp)\n",
        "    agents.append(tmp)\n",
        "  return agents"
      ],
      "execution_count": 41,
      "outputs": []
    },
    {
      "cell_type": "code",
      "metadata": {
        "id": "Z_Qwa27FXoqN",
        "colab_type": "code",
        "colab": {}
      },
      "source": [
        "def selectBest(env, agents, numBest, iterations):\n",
        "  rewards = []\n",
        "  for x in range(len(agents)):\n",
        "    rewards.append((runSimulation(env, agents[x], iterations), x))\n",
        "  rewards.sort(reverse=True)\n",
        "  selected = []\n",
        "  for x in range(numBest):\n",
        "    selected.append(agents[rewards[x][1]])\n",
        "  return selected, rewards[0][0]"
      ],
      "execution_count": 50,
      "outputs": []
    },
    {
      "cell_type": "code",
      "metadata": {
        "id": "jOKobLA39zs0",
        "colab_type": "code",
        "colab": {}
      },
      "source": [
        "def runSimulation(env, agent, iterations):\n",
        "  rewards = 0\n",
        "  action = 0\n",
        "  for x in range(iterations):\n",
        "    s = env.reset()\n",
        "    gameOver = False\n",
        "    while not gameOver:\n",
        "      output = agent(torch.from_numpy(s).type(\"torch.FloatTensor\"))\n",
        "      if output[0] > output[1]:\n",
        "        action = 0\n",
        "      else:\n",
        "        action = 1\n",
        "      s, r, gameOver, _ = env.step(action)\n",
        "      rewards += r\n",
        "  return rewards/iterations"
      ],
      "execution_count": 78,
      "outputs": []
    },
    {
      "cell_type": "code",
      "metadata": {
        "id": "IW8PPMYmJUMy",
        "colab_type": "code",
        "colab": {}
      },
      "source": [
        "def mutate(agent, mutationRate):\n",
        "  child = copy.deepcopy(agent)\n",
        "  for param in child.parameters():\n",
        "    if len(param.shape) is 1:\n",
        "      for x in range(param.shape[0]):\n",
        "        param[x] += mutationRate * np.random.randn()\n",
        "    elif len(param.shape) is 2:\n",
        "      for x in range(param.shape[0]):\n",
        "        for y in range(param.shape[1]):\n",
        "          param[x][y] += mutationRate * np.random.randn()\n",
        "  return child"
      ],
      "execution_count": 52,
      "outputs": []
    },
    {
      "cell_type": "code",
      "metadata": {
        "id": "yVHRbiykVgPS",
        "colab_type": "code",
        "colab": {
          "base_uri": "https://localhost:8080/",
          "height": 286
        },
        "outputId": "9fa81aeb-580c-4875-b97e-9fce6bbee641"
      },
      "source": [
        "parents = generatePopulation(startingSize)\n",
        "env = gym.make(\"CartPole-v1\")\n",
        "highScore = 0\n",
        "for gen in range(generations):\n",
        "  selected, score = selectBest(env, parents, bestPopulation, averageRuns)\n",
        "  mutated = []\n",
        "  for s in selected:\n",
        "    mutated.append(mutate(s, mutationRate))\n",
        "  parents = selected + mutated\n",
        "  if score > highScore or (gen+1) % 10 is 0:\n",
        "    highScore = max(score, highScore)\n",
        "    print(\"Generation \", gen+1, \":\\nGeneration Score: \", score, \"\\nHigh Score: \", highScore, \"\\n\", sep='')\n",
        "  if highScore == scoreCap:\n",
        "    break"
      ],
      "execution_count": 99,
      "outputs": [
        {
          "output_type": "stream",
          "text": [
            "Generation 1:\n",
            "Generation Score: 96.66666666666667\n",
            "High Score: 96.66666666666667\n",
            "\n",
            "Generation 3:\n",
            "Generation Score: 402.3333333333333\n",
            "High Score: 402.3333333333333\n",
            "\n",
            "Generation 5:\n",
            "Generation Score: 493.3333333333333\n",
            "High Score: 493.3333333333333\n",
            "\n",
            "Generation 6:\n",
            "Generation Score: 500.0\n",
            "High Score: 500.0\n",
            "\n"
          ],
          "name": "stdout"
        }
      ]
    }
  ]
}